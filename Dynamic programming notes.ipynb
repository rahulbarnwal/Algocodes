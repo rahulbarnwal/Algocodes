{
 "cells": [
  {
   "cell_type": "code",
   "execution_count": 2,
   "metadata": {
    "collapsed": false
   },
   "outputs": [
    {
     "ename": "SyntaxError",
     "evalue": "invalid syntax (<ipython-input-2-b51f23c43cb2>, line 1)",
     "output_type": "error",
     "traceback": [
      "\u001b[0;36m  File \u001b[0;32m\"<ipython-input-2-b51f23c43cb2>\"\u001b[0;36m, line \u001b[0;32m1\u001b[0m\n\u001b[0;31m    dynamic Programming Attributes\u001b[0m\n\u001b[0m                      ^\u001b[0m\n\u001b[0;31mSyntaxError\u001b[0m\u001b[0;31m:\u001b[0m invalid syntax\n"
     ]
    }
   ],
   "source": [
    "dynamic Programming Attributes\n",
    "    1. Overlapping subproblems\n",
    "        a. Memoization approach:The top down (memoizing) method is closer to the original recursive algorithm, so easier to \n",
    "        understand, but the bottom up method is usually a little more efficient.  The memoized program for a problem is \n",
    "        similar to the recursive version with a small modification that it looks into a lookup table before computing solutions\n",
    "        b. Tabulation approach:  In Memoized version, table is filled on demand while in Tabulated version, starting from the \n",
    "            first entry, all entries are filled one by one. Unlike the Tabulated version, all entries of the lookup table are\n",
    "            not necessarily filled in Memoized version.\n",
    "    2. Optimal substructure.\n",
    "go through geek sfor geeks\n",
    "\n",
    "1. LIS(Longest increasing subsequence)\n",
    "    current implementation is O(n^2)..there is one O(nlogn) approach. see it later.\n",
    "    http://www.geeksforgeeks.org/dynamic-programming-set-3-longest-increasing-subsequence/\n",
    "\n",
    "2. LCS(Longest common subsequence)\n",
    "    The longest increasing subsequence of a sequence S is the longest common subsequence of S and T, where T is the result of\n",
    "    sorting S. However, for the special case in which the input is a permutation of the integers 1, 2, ..., n, this approach \n",
    "    can be made much more efficient, leading to time bounds of the form O(n log log n).\n",
    "    \n",
    "    Remember while finding lcs we write recursive formula from m and n because we are searchi gfor longest possible \n",
    "    subsequence\n",
    "    \n",
    "    #write code for printing LCS\n",
    "    \n",
    "    "
   ]
  },
  {
   "cell_type": "code",
   "execution_count": null,
   "metadata": {
    "collapsed": true
   },
   "outputs": [],
   "source": [
    "Ta"
   ]
  }
 ],
 "metadata": {
  "kernelspec": {
   "display_name": "Python 3",
   "language": "python",
   "name": "python3"
  },
  "language_info": {
   "codemirror_mode": {
    "name": "ipython",
    "version": 3
   },
   "file_extension": ".py",
   "mimetype": "text/x-python",
   "name": "python",
   "nbconvert_exporter": "python",
   "pygments_lexer": "ipython3",
   "version": "3.6.0"
  }
 },
 "nbformat": 4,
 "nbformat_minor": 2
}
